{
 "cells": [
  {
   "cell_type": "code",
   "execution_count": 1,
   "metadata": {},
   "outputs": [],
   "source": [
    "import requests\n",
    "import pandas as pd\n",
    "\n",
    "# some Pandas defaults\n",
    "pd.options.display.max_columns = None"
   ]
  },
  {
   "cell_type": "code",
   "execution_count": 2,
   "metadata": {},
   "outputs": [
    {
     "name": "stderr",
     "output_type": "stream",
     "text": [
      "/Users/julia/miniconda3/envs/deep-learning-nlp/lib/python3.6/site-packages/IPython/core/interactiveshell.py:3020: DtypeWarning: Columns (13,16) have mixed types.Specify dtype option on import or set low_memory=False.\n",
      "  interactivity=interactivity, compiler=compiler, result=result)\n"
     ]
    }
   ],
   "source": [
    "gisaid_df = pd.read_csv(\n",
    "    '~/Downloads/metadata_tsv_2021_04_26/metadata.tsv', sep='\\t')"
   ]
  },
  {
   "cell_type": "code",
   "execution_count": 3,
   "metadata": {},
   "outputs": [
    {
     "data": {
      "text/html": [
       "<div>\n",
       "<style scoped>\n",
       "    .dataframe tbody tr th:only-of-type {\n",
       "        vertical-align: middle;\n",
       "    }\n",
       "\n",
       "    .dataframe tbody tr th {\n",
       "        vertical-align: top;\n",
       "    }\n",
       "\n",
       "    .dataframe thead th {\n",
       "        text-align: right;\n",
       "    }\n",
       "</style>\n",
       "<table border=\"1\" class=\"dataframe\">\n",
       "  <thead>\n",
       "    <tr style=\"text-align: right;\">\n",
       "      <th></th>\n",
       "      <th>Virus name</th>\n",
       "      <th>Type</th>\n",
       "      <th>Accession ID</th>\n",
       "      <th>Collection date</th>\n",
       "      <th>Location</th>\n",
       "      <th>Additional location information</th>\n",
       "      <th>Sequence length</th>\n",
       "      <th>Host</th>\n",
       "      <th>Patient age</th>\n",
       "      <th>Gender</th>\n",
       "      <th>Clade</th>\n",
       "      <th>Pango lineage</th>\n",
       "      <th>Pangolin version</th>\n",
       "      <th>Variant</th>\n",
       "      <th>AA Substitutions</th>\n",
       "      <th>Submission date</th>\n",
       "      <th>Is reference?</th>\n",
       "      <th>Is complete?</th>\n",
       "      <th>Is high coverage?</th>\n",
       "      <th>Is low coverage?</th>\n",
       "      <th>N-Content</th>\n",
       "      <th>GC-Content</th>\n",
       "    </tr>\n",
       "  </thead>\n",
       "  <tbody>\n",
       "    <tr>\n",
       "      <th>0</th>\n",
       "      <td>hCoV-19/Australia/NT12/2020</td>\n",
       "      <td>betacoronavirus</td>\n",
       "      <td>EPI_ISL_426900</td>\n",
       "      <td>2020</td>\n",
       "      <td>Oceania / Australia / Northern territory</td>\n",
       "      <td>NaN</td>\n",
       "      <td>29862</td>\n",
       "      <td>Human</td>\n",
       "      <td>unknown</td>\n",
       "      <td>unknown</td>\n",
       "      <td>G</td>\n",
       "      <td>B.1</td>\n",
       "      <td>2021-04-21</td>\n",
       "      <td>NaN</td>\n",
       "      <td>(NSP15_A283V,NSP12_P323L,Spike_D614G)</td>\n",
       "      <td>2020-04-17</td>\n",
       "      <td>NaN</td>\n",
       "      <td>True</td>\n",
       "      <td>True</td>\n",
       "      <td>NaN</td>\n",
       "      <td>0.006912</td>\n",
       "      <td>0.379674</td>\n",
       "    </tr>\n",
       "    <tr>\n",
       "      <th>1</th>\n",
       "      <td>hCoV-19/Australia/NT13/2020</td>\n",
       "      <td>betacoronavirus</td>\n",
       "      <td>EPI_ISL_426901</td>\n",
       "      <td>2020</td>\n",
       "      <td>Oceania / Australia / Northern territory</td>\n",
       "      <td>NaN</td>\n",
       "      <td>29865</td>\n",
       "      <td>Human</td>\n",
       "      <td>unknown</td>\n",
       "      <td>unknown</td>\n",
       "      <td>G</td>\n",
       "      <td>B.1</td>\n",
       "      <td>2021-04-21</td>\n",
       "      <td>NaN</td>\n",
       "      <td>(NSP15_A283V,NSP12_P323L,Spike_D614G)</td>\n",
       "      <td>2020-04-17</td>\n",
       "      <td>NaN</td>\n",
       "      <td>True</td>\n",
       "      <td>True</td>\n",
       "      <td>NaN</td>\n",
       "      <td>0.008305</td>\n",
       "      <td>0.379554</td>\n",
       "    </tr>\n",
       "    <tr>\n",
       "      <th>2</th>\n",
       "      <td>hCoV-19/Australia/NT14/2020</td>\n",
       "      <td>betacoronavirus</td>\n",
       "      <td>EPI_ISL_426902</td>\n",
       "      <td>2020</td>\n",
       "      <td>Oceania / Australia / Northern territory</td>\n",
       "      <td>NaN</td>\n",
       "      <td>29864</td>\n",
       "      <td>Human</td>\n",
       "      <td>unknown</td>\n",
       "      <td>unknown</td>\n",
       "      <td>V</td>\n",
       "      <td>B.40</td>\n",
       "      <td>2021-04-21</td>\n",
       "      <td>NaN</td>\n",
       "      <td>(NSP14_R163C,NSP3_K38R,NS3_G251V,NSP2_I559V,NS...</td>\n",
       "      <td>2020-04-17</td>\n",
       "      <td>NaN</td>\n",
       "      <td>True</td>\n",
       "      <td>NaN</td>\n",
       "      <td>NaN</td>\n",
       "      <td>0.017929</td>\n",
       "      <td>0.378860</td>\n",
       "    </tr>\n",
       "    <tr>\n",
       "      <th>3</th>\n",
       "      <td>hCoV-19/Australia/NT16/2020</td>\n",
       "      <td>betacoronavirus</td>\n",
       "      <td>EPI_ISL_426903</td>\n",
       "      <td>2020</td>\n",
       "      <td>Oceania / Australia / Northern territory</td>\n",
       "      <td>NaN</td>\n",
       "      <td>29813</td>\n",
       "      <td>Human</td>\n",
       "      <td>unknown</td>\n",
       "      <td>unknown</td>\n",
       "      <td>G</td>\n",
       "      <td>B.1.8</td>\n",
       "      <td>2021-04-21</td>\n",
       "      <td>NaN</td>\n",
       "      <td>(NSP12_P323L,Spike_D614G)</td>\n",
       "      <td>2020-04-17</td>\n",
       "      <td>NaN</td>\n",
       "      <td>True</td>\n",
       "      <td>NaN</td>\n",
       "      <td>NaN</td>\n",
       "      <td>0.009139</td>\n",
       "      <td>0.379244</td>\n",
       "    </tr>\n",
       "    <tr>\n",
       "      <th>4</th>\n",
       "      <td>hCoV-19/Australia/NT17/2020</td>\n",
       "      <td>betacoronavirus</td>\n",
       "      <td>EPI_ISL_426904</td>\n",
       "      <td>2020</td>\n",
       "      <td>Oceania / Australia / Northern territory</td>\n",
       "      <td>NaN</td>\n",
       "      <td>29818</td>\n",
       "      <td>Human</td>\n",
       "      <td>unknown</td>\n",
       "      <td>unknown</td>\n",
       "      <td>G</td>\n",
       "      <td>B.1.8</td>\n",
       "      <td>2021-04-21</td>\n",
       "      <td>NaN</td>\n",
       "      <td>(NSP12_P323L,Spike_D614G)</td>\n",
       "      <td>2020-04-17</td>\n",
       "      <td>NaN</td>\n",
       "      <td>True</td>\n",
       "      <td>True</td>\n",
       "      <td>NaN</td>\n",
       "      <td>0.000436</td>\n",
       "      <td>0.380138</td>\n",
       "    </tr>\n",
       "  </tbody>\n",
       "</table>\n",
       "</div>"
      ],
      "text/plain": [
       "                    Virus name             Type    Accession ID  \\\n",
       "0  hCoV-19/Australia/NT12/2020  betacoronavirus  EPI_ISL_426900   \n",
       "1  hCoV-19/Australia/NT13/2020  betacoronavirus  EPI_ISL_426901   \n",
       "2  hCoV-19/Australia/NT14/2020  betacoronavirus  EPI_ISL_426902   \n",
       "3  hCoV-19/Australia/NT16/2020  betacoronavirus  EPI_ISL_426903   \n",
       "4  hCoV-19/Australia/NT17/2020  betacoronavirus  EPI_ISL_426904   \n",
       "\n",
       "  Collection date                                  Location  \\\n",
       "0            2020  Oceania / Australia / Northern territory   \n",
       "1            2020  Oceania / Australia / Northern territory   \n",
       "2            2020  Oceania / Australia / Northern territory   \n",
       "3            2020  Oceania / Australia / Northern territory   \n",
       "4            2020  Oceania / Australia / Northern territory   \n",
       "\n",
       "  Additional location information  Sequence length   Host Patient age  \\\n",
       "0                             NaN            29862  Human     unknown   \n",
       "1                             NaN            29865  Human     unknown   \n",
       "2                             NaN            29864  Human     unknown   \n",
       "3                             NaN            29813  Human     unknown   \n",
       "4                             NaN            29818  Human     unknown   \n",
       "\n",
       "    Gender Clade Pango lineage Pangolin version Variant  \\\n",
       "0  unknown     G           B.1       2021-04-21     NaN   \n",
       "1  unknown     G           B.1       2021-04-21     NaN   \n",
       "2  unknown     V          B.40       2021-04-21     NaN   \n",
       "3  unknown     G         B.1.8       2021-04-21     NaN   \n",
       "4  unknown     G         B.1.8       2021-04-21     NaN   \n",
       "\n",
       "                                    AA Substitutions Submission date  \\\n",
       "0              (NSP15_A283V,NSP12_P323L,Spike_D614G)      2020-04-17   \n",
       "1              (NSP15_A283V,NSP12_P323L,Spike_D614G)      2020-04-17   \n",
       "2  (NSP14_R163C,NSP3_K38R,NS3_G251V,NSP2_I559V,NS...      2020-04-17   \n",
       "3                          (NSP12_P323L,Spike_D614G)      2020-04-17   \n",
       "4                          (NSP12_P323L,Spike_D614G)      2020-04-17   \n",
       "\n",
       "  Is reference? Is complete? Is high coverage? Is low coverage?  N-Content  \\\n",
       "0           NaN         True              True              NaN   0.006912   \n",
       "1           NaN         True              True              NaN   0.008305   \n",
       "2           NaN         True               NaN              NaN   0.017929   \n",
       "3           NaN         True               NaN              NaN   0.009139   \n",
       "4           NaN         True              True              NaN   0.000436   \n",
       "\n",
       "   GC-Content  \n",
       "0    0.379674  \n",
       "1    0.379554  \n",
       "2    0.378860  \n",
       "3    0.379244  \n",
       "4    0.380138  "
      ]
     },
     "execution_count": 3,
     "metadata": {},
     "output_type": "execute_result"
    }
   ],
   "source": [
    "gisaid_df.head()"
   ]
  },
  {
   "cell_type": "code",
   "execution_count": 4,
   "metadata": {},
   "outputs": [
    {
     "data": {
      "text/plain": [
       "10766"
      ]
     },
     "execution_count": 4,
     "metadata": {},
     "output_type": "execute_result"
    }
   ],
   "source": [
    "# len(location_set)\n",
    "location_set = set(gisaid_df.Location.values)\n",
    "len(location_set)"
   ]
  },
  {
   "cell_type": "code",
   "execution_count": 5,
   "metadata": {},
   "outputs": [
    {
     "data": {
      "text/plain": [
       "Europe / United Kingdom / England                                310516\n",
       "Europe / United Kingdom / Scotland                                34307\n",
       "Europe / United Kingdom / Wales                                   33084\n",
       "Asia / Japan                                                      29078\n",
       "North America / USA / Texas / Houston                             25968\n",
       "                                                                  ...  \n",
       "North America / Panama / Panama Center / Jose Domingo Espinar         1\n",
       "South America / Argentina / Cordoba / Bell Ville                      1\n",
       "Europe / Poland / Swietokrzyskie / Zagrody                            1\n",
       "North America / USA / Georgia / Thomas County                         1\n",
       "Europe / Poland / Zachodniopomorskie / Stare Brynki                   1\n",
       "Name: Location, Length: 10766, dtype: int64"
      ]
     },
     "execution_count": 5,
     "metadata": {},
     "output_type": "execute_result"
    }
   ],
   "source": [
    "gisaid_df.Location.value_counts()"
   ]
  },
  {
   "cell_type": "code",
   "execution_count": 6,
   "metadata": {},
   "outputs": [],
   "source": [
    "def country(location):\n",
    "    if location.startswith('North America / USA'):\n",
    "        return 'USA'\n",
    "    elif location.startswith('South America / Brazil'):\n",
    "        return 'Brazil'\n",
    "    elif location.startswith('Asia / India'):\n",
    "        return 'India'\n",
    "    elif location.startswith('Africa / South Africa'):\n",
    "        return 'South Africa'\n",
    "    elif location.startswith('Europe / United Kingdom'):\n",
    "        return 'United Kingdom'\n",
    "    else:\n",
    "        return ''  # ignore others for now\n",
    "\n",
    "gisaid_df['country'] = gisaid_df.Location.apply(country)\n"
   ]
  },
  {
   "cell_type": "code",
   "execution_count": 7,
   "metadata": {},
   "outputs": [],
   "source": [
    "# gisaid_df.fillna({'AA Substitutions': ''}, inplace=True)\n",
    "# aa_substitutions = set(gisaid_df['AA Substitutions'].values)\n",
    "\n",
    "# dels = set()\n",
    "# for aa_sub_list in aa_substitutions:\n",
    "#     muts = aa_sub_list.split(',')\n",
    "#     for mut in muts:\n",
    "#         if 'del' in mut:\n",
    "#             dels.add(mut)\n",
    "# len(dels)\n",
    "# print(list(dels)[:100])\n",
    "\n",
    "# def num_snvs(aa_substitutions):\n",
    "#     muts = aa_substitutions.split(',')\n",
    "#     return len([x for x in muts if 'del' not in x])\n",
    "# gisaid_df['num_snvs'] = gisaid_df['AA Substitutions'].apply(num_snvs)"
   ]
  },
  {
   "cell_type": "code",
   "execution_count": 8,
   "metadata": {},
   "outputs": [
    {
     "data": {
      "text/plain": [
       "1556"
      ]
     },
     "execution_count": 8,
     "metadata": {},
     "output_type": "execute_result"
    }
   ],
   "source": [
    "# filter out sequences from the exclusion list\n",
    "exclude_sequences_url = 'https://raw.githubusercontent.com/nextstrain/ncov/master/defaults/exclude.txt'\n",
    "exclude_sequences_response = requests.get(exclude_sequences_url)\n",
    "exclude_sequences = set(\n",
    "    [x for x in exclude_sequences_response.text.split('\\n') if x != '' and not x.startswith('#')])\n",
    "\n",
    "# prepend \"hCoV-19/\" to match the GISAID metadata column \"Virus name\"\n",
    "exclude_sequences = set([\"hCoV-19/%s\" % x for x in exclude_sequences])\n",
    "len(exclude_sequences)"
   ]
  },
  {
   "cell_type": "code",
   "execution_count": 9,
   "metadata": {},
   "outputs": [
    {
     "data": {
      "text/plain": [
       "(1229906, 23)"
      ]
     },
     "execution_count": 9,
     "metadata": {},
     "output_type": "execute_result"
    }
   ],
   "source": [
    "gisaid_df.shape"
   ]
  },
  {
   "cell_type": "code",
   "execution_count": 10,
   "metadata": {},
   "outputs": [
    {
     "data": {
      "text/plain": [
       "(1228694, 23)"
      ]
     },
     "execution_count": 10,
     "metadata": {},
     "output_type": "execute_result"
    }
   ],
   "source": [
    "# drops some sequences as expected\n",
    "gisaid_df.loc[\n",
    "    (~gisaid_df['Virus name'].isin(exclude_sequences))\n",
    "].shape"
   ]
  },
  {
   "cell_type": "markdown",
   "metadata": {},
   "source": [
    "# Example of GISAID data filtering"
   ]
  },
  {
   "cell_type": "markdown",
   "metadata": {},
   "source": [
    "## Borrows from some basic outbreak.info and covidcg.org filters\n",
    "\n",
    "- outbreak.info methods: https://outbreak.info/situation-reports/methods\n",
    "- covidcg.org methods: https://covidcg.org/?tab=methodology#\n",
    "\n",
    "### This example uses the following filters:\n",
    "- sequences at least 20000 in length\n",
    "- collection date must not be in the future and must be at least year/month, not year alone\n",
    "- excluding sequences from the Nextstrain exclude list\n",
    "\n",
    "### We may also want to filter out any sequence that is:\n",
    "- Less than 29700 bases (vs our 20000 threshold right now)\n",
    "- greater than 5% ambiguous base calls (N)"
   ]
  },
  {
   "cell_type": "code",
   "execution_count": 11,
   "metadata": {},
   "outputs": [
    {
     "data": {
      "text/plain": [
       "(54117, 23)"
      ]
     },
     "execution_count": 11,
     "metadata": {},
     "output_type": "execute_result"
    }
   ],
   "source": [
    "# how many B.1.1.7 sequences are in the US? Outbreak.info says 54,109, we're close\n",
    "# If we were to use this data, we'd filter it using\n",
    "gisaid_df.loc[\n",
    "    (gisaid_df['country'] == 'USA') &\n",
    "    (gisaid_df['Pango lineage'] == 'B.1.1.7') &\n",
    "    (gisaid_df['Sequence length'] > 20000) &\n",
    "    (~gisaid_df['Collection date'].isin(['2020', '2021'])) &\n",
    "    (gisaid_df['Collection date'] < '2021-04-26') &\n",
    "    (~gisaid_df['Virus name'].isin(exclude_sequences))\n",
    "].shape"
   ]
  },
  {
   "cell_type": "code",
   "execution_count": 12,
   "metadata": {},
   "outputs": [
    {
     "data": {
      "text/plain": [
       "['North America/ USA/ Louisiana/ Claiborne Parish',\n",
       " 'North America/ USA/ Arizona/ Navajo',\n",
       " 'North America/USA/New York/New York']"
      ]
     },
     "execution_count": 12,
     "metadata": {},
     "output_type": "execute_result"
    }
   ],
   "source": [
    "# example of still messy location data - there are a few locations in US still not nicely formatted\n",
    "# as a tree structure\n",
    "[x for x in location_set if 'USA' in x and not x.startswith('North America / USA')]"
   ]
  },
  {
   "cell_type": "markdown",
   "metadata": {},
   "source": [
    "# outbreak.info API playing around"
   ]
  },
  {
   "cell_type": "code",
   "execution_count": 13,
   "metadata": {},
   "outputs": [
    {
     "data": {
      "text/plain": [
       "54109"
      ]
     },
     "execution_count": 13,
     "metadata": {},
     "output_type": "execute_result"
    }
   ],
   "source": [
    "# daily b.1.1.7 counts in US\n",
    "url = 'https://api.outbreak.info/genomics/prevalence-by-location?location_id=USA&cumulative=false&pangolin_lineage=B.1.1.7'\n",
    "r = requests.get(url)\n",
    "daily_sum = sum({x['date']: x['lineage_count'] for x in r.json()['results']}.values())\n",
    "daily_sum"
   ]
  },
  {
   "cell_type": "code",
   "execution_count": 14,
   "metadata": {},
   "outputs": [
    {
     "data": {
      "text/plain": [
       "True"
      ]
     },
     "execution_count": 14,
     "metadata": {},
     "output_type": "execute_result"
    }
   ],
   "source": [
    "# total b.1.1.7 count in US\n",
    "url = 'https://api.outbreak.info/genomics/prevalence-by-location?location_id=USA&cumulative=true&pangolin_lineage=B.1.1.7'\n",
    "r = requests.get(url)\n",
    "r.json()['results']['lineage_count'] == daily_sum"
   ]
  },
  {
   "cell_type": "code",
   "execution_count": 15,
   "metadata": {},
   "outputs": [],
   "source": [
    "# Compare GISAID and outbreak.info\n",
    "\n",
    "vocs = ['B.1.1.7', 'B.1.429', 'B.1.427', 'P.1', 'B.1.351']\n",
    "vois = ['B.1.526', 'B.1.526.1', 'B.1.526.2', 'P.2', 'B.1.617']"
   ]
  },
  {
   "cell_type": "code",
   "execution_count": 16,
   "metadata": {},
   "outputs": [],
   "source": [
    "def get_gisaid_US_lineage_count(lineage):\n",
    "    return gisaid_df.loc[\n",
    "        (gisaid_df['country'] == 'USA') &\n",
    "        (gisaid_df['Pango lineage'] == lineage) &\n",
    "        (gisaid_df['Sequence length'] > 20000) &\n",
    "        (~gisaid_df['Collection date'].isin(['2020', '2021'])) &\n",
    "        (gisaid_df['Collection date'] < '2021-04-26') &\n",
    "        (~gisaid_df['Virus name'].isin(exclude_sequences))\n",
    "    ].shape[0]\n",
    "\n",
    "def get_outbreak_info_US_lineage_count(lineage):\n",
    "    url = 'https://api.outbreak.info/genomics/prevalence-by-location?location_id=USA&cumulative=true&pangolin_lineage=%s' % lineage\n",
    "    r = requests.get(url)\n",
    "    return r.json()['results']['lineage_count']\n",
    "\n",
    "counts = []\n",
    "for lineage in vocs + vois:\n",
    "    gisaid_lineage_count = get_gisaid_US_lineage_count(lineage)\n",
    "    outbreak_info_lineage_count = get_outbreak_info_US_lineage_count(lineage)\n",
    "    pct_difference = (gisaid_lineage_count - outbreak_info_lineage_count) / gisaid_lineage_count\n",
    "    counts.append({\n",
    "        'lineage': lineage,\n",
    "        'GISAID_US_count': gisaid_lineage_count,\n",
    "        'outbreak_info_US_count': outbreak_info_lineage_count,\n",
    "        'pct_difference': pct_difference * 100\n",
    "    })"
   ]
  },
  {
   "cell_type": "markdown",
   "metadata": {},
   "source": [
    "# Cumulative counts for lineages in US from GISAID and outbreak.info\n",
    "\n",
    "## (pct_difference is relative to GISAID count)"
   ]
  },
  {
   "cell_type": "code",
   "execution_count": 17,
   "metadata": {},
   "outputs": [
    {
     "data": {
      "text/html": [
       "<div>\n",
       "<style scoped>\n",
       "    .dataframe tbody tr th:only-of-type {\n",
       "        vertical-align: middle;\n",
       "    }\n",
       "\n",
       "    .dataframe tbody tr th {\n",
       "        vertical-align: top;\n",
       "    }\n",
       "\n",
       "    .dataframe thead th {\n",
       "        text-align: right;\n",
       "    }\n",
       "</style>\n",
       "<table border=\"1\" class=\"dataframe\">\n",
       "  <thead>\n",
       "    <tr style=\"text-align: right;\">\n",
       "      <th></th>\n",
       "      <th>lineage</th>\n",
       "      <th>GISAID_US_count</th>\n",
       "      <th>outbreak_info_US_count</th>\n",
       "      <th>pct_difference</th>\n",
       "    </tr>\n",
       "  </thead>\n",
       "  <tbody>\n",
       "    <tr>\n",
       "      <th>0</th>\n",
       "      <td>B.1.1.7</td>\n",
       "      <td>54117</td>\n",
       "      <td>54109</td>\n",
       "      <td>0.014783</td>\n",
       "    </tr>\n",
       "    <tr>\n",
       "      <th>1</th>\n",
       "      <td>B.1.429</td>\n",
       "      <td>21816</td>\n",
       "      <td>21672</td>\n",
       "      <td>0.660066</td>\n",
       "    </tr>\n",
       "    <tr>\n",
       "      <th>2</th>\n",
       "      <td>B.1.427</td>\n",
       "      <td>9719</td>\n",
       "      <td>9269</td>\n",
       "      <td>4.630106</td>\n",
       "    </tr>\n",
       "    <tr>\n",
       "      <th>3</th>\n",
       "      <td>P.1</td>\n",
       "      <td>2598</td>\n",
       "      <td>2598</td>\n",
       "      <td>0.000000</td>\n",
       "    </tr>\n",
       "    <tr>\n",
       "      <th>4</th>\n",
       "      <td>B.1.351</td>\n",
       "      <td>804</td>\n",
       "      <td>804</td>\n",
       "      <td>0.000000</td>\n",
       "    </tr>\n",
       "    <tr>\n",
       "      <th>5</th>\n",
       "      <td>B.1.526</td>\n",
       "      <td>10313</td>\n",
       "      <td>10313</td>\n",
       "      <td>0.000000</td>\n",
       "    </tr>\n",
       "    <tr>\n",
       "      <th>6</th>\n",
       "      <td>B.1.526.1</td>\n",
       "      <td>4258</td>\n",
       "      <td>4258</td>\n",
       "      <td>0.000000</td>\n",
       "    </tr>\n",
       "    <tr>\n",
       "      <th>7</th>\n",
       "      <td>B.1.526.2</td>\n",
       "      <td>3755</td>\n",
       "      <td>3755</td>\n",
       "      <td>0.000000</td>\n",
       "    </tr>\n",
       "    <tr>\n",
       "      <th>8</th>\n",
       "      <td>P.2</td>\n",
       "      <td>944</td>\n",
       "      <td>938</td>\n",
       "      <td>0.635593</td>\n",
       "    </tr>\n",
       "    <tr>\n",
       "      <th>9</th>\n",
       "      <td>B.1.617</td>\n",
       "      <td>15</td>\n",
       "      <td>15</td>\n",
       "      <td>0.000000</td>\n",
       "    </tr>\n",
       "  </tbody>\n",
       "</table>\n",
       "</div>"
      ],
      "text/plain": [
       "     lineage  GISAID_US_count  outbreak_info_US_count  pct_difference\n",
       "0    B.1.1.7            54117                   54109        0.014783\n",
       "1    B.1.429            21816                   21672        0.660066\n",
       "2    B.1.427             9719                    9269        4.630106\n",
       "3        P.1             2598                    2598        0.000000\n",
       "4    B.1.351              804                     804        0.000000\n",
       "5    B.1.526            10313                   10313        0.000000\n",
       "6  B.1.526.1             4258                    4258        0.000000\n",
       "7  B.1.526.2             3755                    3755        0.000000\n",
       "8        P.2              944                     938        0.635593\n",
       "9    B.1.617               15                      15        0.000000"
      ]
     },
     "execution_count": 17,
     "metadata": {},
     "output_type": "execute_result"
    }
   ],
   "source": [
    "pd.DataFrame(counts)"
   ]
  }
 ],
 "metadata": {
  "kernelspec": {
   "display_name": "Python 3",
   "language": "python",
   "name": "python3"
  },
  "language_info": {
   "codemirror_mode": {
    "name": "ipython",
    "version": 3
   },
   "file_extension": ".py",
   "mimetype": "text/x-python",
   "name": "python",
   "nbconvert_exporter": "python",
   "pygments_lexer": "ipython3",
   "version": "3.6.7"
  }
 },
 "nbformat": 4,
 "nbformat_minor": 2
}
